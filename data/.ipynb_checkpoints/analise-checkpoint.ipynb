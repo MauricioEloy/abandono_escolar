{
 "cells": [
  {
   "cell_type": "code",
   "execution_count": 1,
   "metadata": {
    "ExecuteTime": {
     "end_time": "2021-02-25T18:15:21.547282Z",
     "start_time": "2021-02-25T18:15:20.737353Z"
    }
   },
   "outputs": [],
   "source": [
    "import pandas as pd\n"
   ]
  },
  {
   "cell_type": "code",
   "execution_count": 2,
   "metadata": {
    "ExecuteTime": {
     "end_time": "2021-02-25T18:15:22.461546Z",
     "start_time": "2021-02-25T18:15:22.154705Z"
    }
   },
   "outputs": [
    {
     "data": {
      "text/html": [
       "<div>\n",
       "<style scoped>\n",
       "    .dataframe tbody tr th:only-of-type {\n",
       "        vertical-align: middle;\n",
       "    }\n",
       "\n",
       "    .dataframe tbody tr th {\n",
       "        vertical-align: top;\n",
       "    }\n",
       "\n",
       "    .dataframe thead th {\n",
       "        text-align: right;\n",
       "    }\n",
       "</style>\n",
       "<table border=\"1\" class=\"dataframe\">\n",
       "  <thead>\n",
       "    <tr style=\"text-align: right;\">\n",
       "      <th></th>\n",
       "      <th>ogm</th>\n",
       "      <th>exames_1ano</th>\n",
       "      <th>exames_2ano</th>\n",
       "      <th>exames_3ano</th>\n",
       "      <th>dp_1ano</th>\n",
       "      <th>dp_2ano</th>\n",
       "      <th>dp_3ano</th>\n",
       "      <th>cm_1ano</th>\n",
       "      <th>cm_2ano</th>\n",
       "      <th>cm_3ano</th>\n",
       "      <th>...</th>\n",
       "      <th>vl11</th>\n",
       "      <th>vl12</th>\n",
       "      <th>vlx1</th>\n",
       "      <th>vj14</th>\n",
       "      <th>vlx2</th>\n",
       "      <th>vlx3</th>\n",
       "      <th>rc1</th>\n",
       "      <th>rc2</th>\n",
       "      <th>rcn</th>\n",
       "      <th>abandono</th>\n",
       "    </tr>\n",
       "    <tr>\n",
       "      <th>id</th>\n",
       "      <th></th>\n",
       "      <th></th>\n",
       "      <th></th>\n",
       "      <th></th>\n",
       "      <th></th>\n",
       "      <th></th>\n",
       "      <th></th>\n",
       "      <th></th>\n",
       "      <th></th>\n",
       "      <th></th>\n",
       "      <th></th>\n",
       "      <th></th>\n",
       "      <th></th>\n",
       "      <th></th>\n",
       "      <th></th>\n",
       "      <th></th>\n",
       "      <th></th>\n",
       "      <th></th>\n",
       "      <th></th>\n",
       "      <th></th>\n",
       "      <th></th>\n",
       "    </tr>\n",
       "  </thead>\n",
       "  <tbody>\n",
       "    <tr>\n",
       "      <th>1</th>\n",
       "      <td>PA</td>\n",
       "      <td>0.0</td>\n",
       "      <td>1.0</td>\n",
       "      <td>NaN</td>\n",
       "      <td>0.0</td>\n",
       "      <td>0.0</td>\n",
       "      <td>0.0</td>\n",
       "      <td>1.0</td>\n",
       "      <td>2.0</td>\n",
       "      <td>1.0</td>\n",
       "      <td>...</td>\n",
       "      <td>4.0</td>\n",
       "      <td>2.0</td>\n",
       "      <td>2.0</td>\n",
       "      <td>NaN</td>\n",
       "      <td>2.0</td>\n",
       "      <td>4.0</td>\n",
       "      <td>4.0</td>\n",
       "      <td>4.0</td>\n",
       "      <td>4.0</td>\n",
       "      <td>0</td>\n",
       "    </tr>\n",
       "    <tr>\n",
       "      <th>2</th>\n",
       "      <td>PA</td>\n",
       "      <td>0.0</td>\n",
       "      <td>1.0</td>\n",
       "      <td>NaN</td>\n",
       "      <td>0.0</td>\n",
       "      <td>0.0</td>\n",
       "      <td>0.0</td>\n",
       "      <td>2.0</td>\n",
       "      <td>1.0</td>\n",
       "      <td>2.0</td>\n",
       "      <td>...</td>\n",
       "      <td>5.0</td>\n",
       "      <td>5.0</td>\n",
       "      <td>4.0</td>\n",
       "      <td>NaN</td>\n",
       "      <td>NaN</td>\n",
       "      <td>NaN</td>\n",
       "      <td>NaN</td>\n",
       "      <td>NaN</td>\n",
       "      <td>NaN</td>\n",
       "      <td>0</td>\n",
       "    </tr>\n",
       "    <tr>\n",
       "      <th>3</th>\n",
       "      <td>PA</td>\n",
       "      <td>0.0</td>\n",
       "      <td>0.0</td>\n",
       "      <td>NaN</td>\n",
       "      <td>0.0</td>\n",
       "      <td>0.0</td>\n",
       "      <td>0.0</td>\n",
       "      <td>0.0</td>\n",
       "      <td>0.0</td>\n",
       "      <td>0.0</td>\n",
       "      <td>...</td>\n",
       "      <td>4.0</td>\n",
       "      <td>4.0</td>\n",
       "      <td>2.0</td>\n",
       "      <td>NaN</td>\n",
       "      <td>2.0</td>\n",
       "      <td>NaN</td>\n",
       "      <td>4.0</td>\n",
       "      <td>4.0</td>\n",
       "      <td>4.0</td>\n",
       "      <td>1</td>\n",
       "    </tr>\n",
       "    <tr>\n",
       "      <th>4</th>\n",
       "      <td>PA</td>\n",
       "      <td>2.0</td>\n",
       "      <td>3.0</td>\n",
       "      <td>NaN</td>\n",
       "      <td>0.0</td>\n",
       "      <td>0.0</td>\n",
       "      <td>0.0</td>\n",
       "      <td>0.0</td>\n",
       "      <td>0.0</td>\n",
       "      <td>0.0</td>\n",
       "      <td>...</td>\n",
       "      <td>2.0</td>\n",
       "      <td>2.0</td>\n",
       "      <td>2.0</td>\n",
       "      <td>NaN</td>\n",
       "      <td>NaN</td>\n",
       "      <td>NaN</td>\n",
       "      <td>4.0</td>\n",
       "      <td>4.0</td>\n",
       "      <td>NaN</td>\n",
       "      <td>1</td>\n",
       "    </tr>\n",
       "    <tr>\n",
       "      <th>5</th>\n",
       "      <td>PA</td>\n",
       "      <td>0.0</td>\n",
       "      <td>4.0</td>\n",
       "      <td>NaN</td>\n",
       "      <td>0.0</td>\n",
       "      <td>0.0</td>\n",
       "      <td>0.0</td>\n",
       "      <td>27.0</td>\n",
       "      <td>40.0</td>\n",
       "      <td>43.0</td>\n",
       "      <td>...</td>\n",
       "      <td>3.0</td>\n",
       "      <td>2.0</td>\n",
       "      <td>2.0</td>\n",
       "      <td>NaN</td>\n",
       "      <td>4.0</td>\n",
       "      <td>NaN</td>\n",
       "      <td>4.0</td>\n",
       "      <td>4.0</td>\n",
       "      <td>NaN</td>\n",
       "      <td>0</td>\n",
       "    </tr>\n",
       "  </tbody>\n",
       "</table>\n",
       "<p>5 rows × 38 columns</p>\n",
       "</div>"
      ],
      "text/plain": [
       "   ogm  exames_1ano  exames_2ano  exames_3ano  dp_1ano  dp_2ano  dp_3ano  \\\n",
       "id                                                                         \n",
       "1   PA          0.0          1.0          NaN      0.0      0.0      0.0   \n",
       "2   PA          0.0          1.0          NaN      0.0      0.0      0.0   \n",
       "3   PA          0.0          0.0          NaN      0.0      0.0      0.0   \n",
       "4   PA          2.0          3.0          NaN      0.0      0.0      0.0   \n",
       "5   PA          0.0          4.0          NaN      0.0      0.0      0.0   \n",
       "\n",
       "    cm_1ano  cm_2ano  cm_3ano  ...  vl11  vl12 vlx1  vj14 vlx2 vlx3  rc1  rc2  \\\n",
       "id                             ...                                              \n",
       "1       1.0      2.0      1.0  ...   4.0   2.0  2.0   NaN  2.0  4.0  4.0  4.0   \n",
       "2       2.0      1.0      2.0  ...   5.0   5.0  4.0   NaN  NaN  NaN  NaN  NaN   \n",
       "3       0.0      0.0      0.0  ...   4.0   4.0  2.0   NaN  2.0  NaN  4.0  4.0   \n",
       "4       0.0      0.0      0.0  ...   2.0   2.0  2.0   NaN  NaN  NaN  4.0  4.0   \n",
       "5      27.0     40.0     43.0  ...   3.0   2.0  2.0   NaN  4.0  NaN  4.0  4.0   \n",
       "\n",
       "    rcn  abandono  \n",
       "id                 \n",
       "1   4.0         0  \n",
       "2   NaN         0  \n",
       "3   4.0         1  \n",
       "4   NaN         1  \n",
       "5   NaN         0  \n",
       "\n",
       "[5 rows x 38 columns]"
      ]
     },
     "execution_count": 2,
     "metadata": {},
     "output_type": "execute_result"
    }
   ],
   "source": [
    "df_base = pd.read_excel(\"data_set_base.xlsx\", index_col=\"id\")\n",
    "df_base.head()"
   ]
  },
  {
   "cell_type": "code",
   "execution_count": 3,
   "metadata": {
    "ExecuteTime": {
     "end_time": "2021-02-25T18:15:29.122286Z",
     "start_time": "2021-02-25T18:15:29.102466Z"
    }
   },
   "outputs": [
    {
     "name": "stdout",
     "output_type": "stream",
     "text": [
      "<class 'pandas.core.frame.DataFrame'>\n",
      "Int64Index: 611 entries, 1 to 611\n",
      "Data columns (total 38 columns):\n",
      " #   Column       Non-Null Count  Dtype  \n",
      "---  ------       --------------  -----  \n",
      " 0   ogm          611 non-null    object \n",
      " 1   exames_1ano  605 non-null    float64\n",
      " 2   exames_2ano  450 non-null    float64\n",
      " 3   exames_3ano  76 non-null     float64\n",
      " 4   dp_1ano      605 non-null    float64\n",
      " 5   dp_2ano      450 non-null    float64\n",
      " 6   dp_3ano      244 non-null    float64\n",
      " 7   cm_1ano      573 non-null    float64\n",
      " 8   cm_2ano      429 non-null    float64\n",
      " 9   cm_3ano      245 non-null    float64\n",
      " 10  atr          611 non-null    int64  \n",
      " 11  psr          611 non-null    int64  \n",
      " 12  scr_1ano     512 non-null    object \n",
      " 13  scr_2ano     285 non-null    float64\n",
      " 14  scr_3ano     153 non-null    object \n",
      " 15  ic_1ano      512 non-null    object \n",
      " 16  ic_2ano      285 non-null    object \n",
      " 17  ic_3ano      153 non-null    object \n",
      " 18  vl01         515 non-null    float64\n",
      " 19  vl02         512 non-null    float64\n",
      " 20  vl03         510 non-null    float64\n",
      " 21  vl04         506 non-null    float64\n",
      " 22  vl05         497 non-null    float64\n",
      " 23  vl06         490 non-null    float64\n",
      " 24  vl07         482 non-null    float64\n",
      " 25  vl08         477 non-null    float64\n",
      " 26  vl09         458 non-null    float64\n",
      " 27  vl10         449 non-null    float64\n",
      " 28  vl11         440 non-null    float64\n",
      " 29  vl12         430 non-null    float64\n",
      " 30  vlx1         415 non-null    float64\n",
      " 31  vj14         8 non-null      float64\n",
      " 32  vlx2         131 non-null    float64\n",
      " 33  vlx3         19 non-null     float64\n",
      " 34  rc1          395 non-null    float64\n",
      " 35  rc2          278 non-null    float64\n",
      " 36  rcn          78 non-null     float64\n",
      " 37  abandono     611 non-null    int64  \n",
      "dtypes: float64(29), int64(3), object(6)\n",
      "memory usage: 186.2+ KB\n"
     ]
    }
   ],
   "source": [
    "df_base.info()"
   ]
  },
  {
   "cell_type": "code",
   "execution_count": 11,
   "metadata": {
    "ExecuteTime": {
     "end_time": "2021-02-24T11:59:08.459920Z",
     "start_time": "2021-02-24T11:59:08.446669Z"
    }
   },
   "outputs": [],
   "source": []
  },
  {
   "cell_type": "code",
   "execution_count": 13,
   "metadata": {
    "ExecuteTime": {
     "end_time": "2021-02-24T11:59:54.132257Z",
     "start_time": "2021-02-24T11:59:25.330097Z"
    }
   },
   "outputs": [
    {
     "name": "stdout",
     "output_type": "stream",
     "text": [
      "Digite o valor de a (a >= 1): 60\n",
      "Digite o valor de b (b <= 100): 10\n"
     ]
    },
    {
     "data": {
      "text/plain": [
       "10"
      ]
     },
     "execution_count": 13,
     "metadata": {},
     "output_type": "execute_result"
    }
   ],
   "source": []
  },
  {
   "cell_type": "code",
   "execution_count": null,
   "metadata": {},
   "outputs": [],
   "source": []
  }
 ],
 "metadata": {
  "kernelspec": {
   "display_name": "Python 3",
   "language": "python",
   "name": "python3"
  },
  "language_info": {
   "codemirror_mode": {
    "name": "ipython",
    "version": 3
   },
   "file_extension": ".py",
   "mimetype": "text/x-python",
   "name": "python",
   "nbconvert_exporter": "python",
   "pygments_lexer": "ipython3",
   "version": "3.8.5"
  },
  "nbTranslate": {
   "displayLangs": [
    "*"
   ],
   "hotkey": "alt-t",
   "langInMainMenu": true,
   "sourceLang": "en",
   "targetLang": "fr",
   "useGoogleTranslate": true
  },
  "toc": {
   "base_numbering": 1,
   "nav_menu": {},
   "number_sections": true,
   "sideBar": true,
   "skip_h1_title": false,
   "title_cell": "Table of Contents",
   "title_sidebar": "Contents",
   "toc_cell": false,
   "toc_position": {},
   "toc_section_display": true,
   "toc_window_display": false
  }
 },
 "nbformat": 4,
 "nbformat_minor": 4
}
